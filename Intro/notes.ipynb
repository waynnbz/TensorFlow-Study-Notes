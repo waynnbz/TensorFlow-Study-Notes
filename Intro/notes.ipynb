{
 "cells": [
  {
   "cell_type": "markdown",
   "metadata": {},
   "source": [
    "# ConvNet and Callbacks\n",
    "***"
   ]
  },
  {
   "cell_type": "markdown",
   "metadata": {},
   "source": [
    "```python\n",
    "import tensorflow as tf\n",
    "\n",
    "#defining callbacks class\n",
    "class myCallback(tf.keras.callbacks.Callback):\n",
    "  def on_epoch_end(self, epoch, logs={}):\n",
    "    if(logs.get('acc')>0.99):\n",
    "      print(\"\\nReached 99% accuracy so cancelling training!\")\n",
    "      self.model.stop_training = True\n",
    "\n",
    "mnist = tf.keras.datasets.mnist\n",
    "\n",
    "(x_train, y_train),(x_test, y_test) = mnist.load_data()\n",
    "x_train, x_test = x_train / 255.0, x_test / 255.0  #normalizaing images\n",
    "\n",
    "# adding last dimension for grey images (1 channel)\n",
    "training_images = training_images.reshape(60000, 28, 28, 1);\n",
    "test_images = test_images.reshape(10000, 28, 28, 1);\n",
    "\n",
    "callbacks = myCallback()\n",
    "\n",
    "cnn_model = tf.keras.models.Sequential([\n",
    "                                       tf.keras.layers.Conv2D(64, (3,3), activation='relu', input_shape=(28,28,1)),\n",
    "                                       tf.keras.layers.MaxPooling2D(2,2),\n",
    "                                       tf.keras.layers.Conv2D(64, (3,3), activation='relu'),\n",
    "                                       tf.keras.layers.MaxPooling2D(2,2),\n",
    "                                       tf.keras.layers.Flatten(),\n",
    "                                       tf.keras.layers.Dense(128, activation='relu'),\n",
    "                                       tf.keras.layers.Dense(10, activation='softmax')\n",
    "])\n",
    "\n",
    "cnn_model.compile(optimizer='adam',\n",
    "              loss='sparse_categorical_crossentropy',\n",
    "              metrics=['accuracy'])\n",
    "\n",
    "cnn_model.fit(x_train, y_train, epochs=10, callbacks=[callbacks])\n",
    "```"
   ]
  },
  {
   "cell_type": "markdown",
   "metadata": {},
   "source": [
    "# Using real wolrd images\n",
    "***"
   ]
  },
  {
   "cell_type": "markdown",
   "metadata": {},
   "source": [
    "## ImageGenerator\n",
    "\n",
    "- Apply to the dir. containing subdir. which contains the gourp of images  (auto load and label files based on the name of subdirectory)\n",
    "\n",
    "```python\n",
    "\n",
    "train_datagen = ImageDataGenerator(rescale=1./255)\n",
    "\n",
    "train_generator = train_datagen.flow_from_directory(\n",
    "    train_dir,\n",
    "    target_size=(300, 300),\n",
    "    batch_size=128,\n",
    "    class_model='binary')\n",
    "\n",
    "# same init for validation_data except different dir and maybe batch_size for diff. #imgs\n",
    "\n",
    "```"
   ]
  },
  {
   "cell_type": "markdown",
   "metadata": {},
   "source": [
    "- using **'model.fit_generator'** instead  \n",
    "\n",
    "```python\n",
    "history = model.fit_generator(\n",
    "    train_generator,  #streaming images from the training dir\n",
    "    steps_per_epoch=8,   #total 1024 imgs, with batch_size=128, gives 8 batches(step) per epoch\n",
    "    epochs=15,\n",
    "    validation_data=validation_generator,\n",
    "    validation_steps=8,\n",
    "    verbose=2) # 'how' seeing the training progess for each epoh(diff. styles with 0 for nothing, 1 for bar, 2 for 1/10)\n",
    "```"
   ]
  },
  {
   "cell_type": "code",
   "execution_count": null,
   "metadata": {},
   "outputs": [],
   "source": []
  }
 ],
 "metadata": {
  "kernelspec": {
   "display_name": "Python 3",
   "language": "python",
   "name": "python3"
  },
  "language_info": {
   "codemirror_mode": {
    "name": "ipython",
    "version": 3
   },
   "file_extension": ".py",
   "mimetype": "text/x-python",
   "name": "python",
   "nbconvert_exporter": "python",
   "pygments_lexer": "ipython3",
   "version": "3.6.9"
  }
 },
 "nbformat": 4,
 "nbformat_minor": 2
}
